{
 "cells": [
  {
   "cell_type": "markdown",
   "id": "69236694-ac14-4592-8407-60ba11d69b1e",
   "metadata": {},
   "source": [
    "# Data Science Tools and Ecosystem"
   ]
  },
  {
   "cell_type": "markdown",
   "id": "490ed9b9-bee5-4c37-9dda-0748e659aee3",
   "metadata": {},
   "source": [
    "# In this notebook, Data Science Tools and Ecosystem are summarized.\n",
    "# OBJECTIVES:\n",
    "- List popular languages that Data Science\n",
    "- Commonly used libraries used by Data Scientists\n",
    "- Arithmetic expressions in Python\n",
    "\n",
    "# Some of the popular languages that Data Scientists use are:\n",
    "   1. Python\n",
    "   2. R\n",
    "   3. SQL\n",
    "      \n",
    "   \n",
    "\n"
   ]
  },
  {
   "cell_type": "markdown",
   "id": "c01967a1-eabb-4280-bff1-2f8cba08a248",
   "metadata": {},
   "source": [
    "# Some of the commonly used libraries used by Data Scientists include:\n",
    "  1. Numpy\n",
    "  2. Scikit Learn\n",
    "  3. Pandas\n",
    "  4. Matplotlib\n",
    "\n",
    "      \n",
    "\n",
    "\n",
    "\n",
    "\n",
    "\n",
    " \n",
    "\n"
   ]
  },
  {
   "cell_type": "markdown",
   "id": "f8cb37a2-4739-409d-b880-66ebbcea86b2",
   "metadata": {},
   "source": [
    "| Data Science Tools |\n",
    "----------------------\n",
    "| Jupyter Notebook|\n",
    "|RStudio|\n",
    "|Hadoop Spark Apache Flink|\n",
    "\n",
    "\n",
    "\n"
   ]
  },
  {
   "cell_type": "markdown",
   "id": "2ae7b6ff-51ef-4edb-bdb2-ff3dab4c74b4",
   "metadata": {},
   "source": [
    "### Below are a few examples of evaluating arithmetic expressions in Python\n",
    "\n",
    "\n"
   ]
  },
  {
   "cell_type": "code",
   "execution_count": 10,
   "id": "5bdcead5-cc6a-4b4f-8d55-8ae8f4de28f8",
   "metadata": {},
   "outputs": [
    {
     "data": {
      "text/plain": [
       "17"
      ]
     },
     "execution_count": 10,
     "metadata": {},
     "output_type": "execute_result"
    }
   ],
   "source": [
    "# This a simple arithmetic expression to mutiply then add integers\n",
    "(3*4)+5"
   ]
  },
  {
   "cell_type": "code",
   "execution_count": 12,
   "id": "01b382db-0452-4a89-99cb-9f375ada5ad9",
   "metadata": {},
   "outputs": [
    {
     "data": {
      "text/plain": [
       "3.3333333333333335"
      ]
     },
     "execution_count": 12,
     "metadata": {},
     "output_type": "execute_result"
    }
   ],
   "source": [
    "# This will convert 200 minutes to hours by diving by 60\n",
    "200/60"
   ]
  },
  {
   "cell_type": "markdown",
   "id": "663ef7cb-13e0-4158-9cb5-109689369802",
   "metadata": {},
   "source": [
    "## Author\n",
    "- Name: Priyanka Suresh Avate"
   ]
  },
  {
   "cell_type": "markdown",
   "id": "be92c0c4-da85-4555-a5c0-1b4700f689eb",
   "metadata": {},
   "source": []
  }
 ],
 "metadata": {
  "kernelspec": {
   "display_name": "Python 3 (ipykernel)",
   "language": "python",
   "name": "python3"
  },
  "language_info": {
   "codemirror_mode": {
    "name": "ipython",
    "version": 3
   },
   "file_extension": ".py",
   "mimetype": "text/x-python",
   "name": "python",
   "nbconvert_exporter": "python",
   "pygments_lexer": "ipython3",
   "version": "3.11.7"
  }
 },
 "nbformat": 4,
 "nbformat_minor": 5
}
